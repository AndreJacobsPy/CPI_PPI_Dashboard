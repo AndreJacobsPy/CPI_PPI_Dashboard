{
 "cells": [
  {
   "cell_type": "code",
   "execution_count": 87,
   "metadata": {},
   "outputs": [],
   "source": [
    "start_graph = {\n",
    "    'B': 'E', 'E': 'H', 'H': 'K', 'K': 'N', 'N': 'Q', 'Q': 'T', 'T': 'W', 'W': 'Z',\n",
    "    'Z': 'AC', 'AC': 'AF', 'AF': 'AI', 'AI': 'AL', 'AL': 'AO', 'AO': 'AR', 'AR': 'AU',\n",
    "    'AU': 'AX', 'AX': 'BA'\n",
    "}\n",
    "\n",
    "end_graph = {\n",
    "    'D': 'G', 'G': 'J', 'J': 'M', 'M': 'P', 'P': 'S', 'S': 'V', 'V': 'Y', 'Y': 'AB',\n",
    "    'AB': 'AE', 'AE': 'AH', 'AH': 'AK', 'AK': 'AN', 'AN': 'AQ', 'AQ': 'AT', 'AT': 'AW',\n",
    "    'AW': 'AZ', 'AZ': 'BC'\n",
    "}"
   ]
  },
  {
   "cell_type": "code",
   "execution_count": 89,
   "metadata": {},
   "outputs": [
    {
     "name": "stdout",
     "output_type": "stream",
     "text": [
      "B D\n",
      "E G\n",
      "H J\n",
      "K M\n",
      "N P\n",
      "Q S\n",
      "T V\n",
      "W Y\n",
      "Z AB\n",
      "AC AE\n",
      "AF AH\n",
      "AI AK\n",
      "AL AN\n",
      "AO AQ\n",
      "AR AT\n",
      "AU AW\n",
      "AX AZ\n",
      "BA BC\n"
     ]
    }
   ],
   "source": [
    "import pandas as pd\n",
    "\n",
    "# read in excel sheet\\\n",
    "start, end = 'B', 'D'\n",
    "while start in start_graph and end in end_graph:\n",
    "    data = pd.read_excel('../CPIHistoricalForecast.xlsx', usecols=f'A, {start}:{end}', skiprows=2)\n",
    "    df = data.copy()\n",
    "    # data.head()\n",
    "    print(start, end)\n",
    "    start = start_graph[start]\n",
    "    end = end_graph[end]\n",
    "print(start, end)"
   ]
  },
  {
   "cell_type": "code",
   "execution_count": 83,
   "metadata": {},
   "outputs": [],
   "source": [
    "date = df.columns[2].split('-')"
   ]
  },
  {
   "cell_type": "code",
   "execution_count": 84,
   "metadata": {},
   "outputs": [],
   "source": [
    "col_names = df.iloc[0].values\n",
    "col_names[0] = 'index'\n",
    "df = df.iloc[1:]\n",
    "df.columns = col_names\n",
    "\n",
    "# creating columns for date\n",
    "df['month'] = date[0]\n",
    "df['year'] = int(date[1]) + 2000\n",
    "\n",
    "# set index\n",
    "df = df.set_index('index').dropna()"
   ]
  },
  {
   "cell_type": "code",
   "execution_count": 85,
   "metadata": {},
   "outputs": [
    {
     "data": {
      "text/html": [
       "<div>\n",
       "<style scoped>\n",
       "    .dataframe tbody tr th:only-of-type {\n",
       "        vertical-align: middle;\n",
       "    }\n",
       "\n",
       "    .dataframe tbody tr th {\n",
       "        vertical-align: top;\n",
       "    }\n",
       "\n",
       "    .dataframe thead th {\n",
       "        text-align: right;\n",
       "    }\n",
       "</style>\n",
       "<table border=\"1\" class=\"dataframe\">\n",
       "  <thead>\n",
       "    <tr style=\"text-align: right;\">\n",
       "      <th></th>\n",
       "      <th>Lower</th>\n",
       "      <th>Mid</th>\n",
       "      <th>Upper</th>\n",
       "      <th>month</th>\n",
       "      <th>year</th>\n",
       "    </tr>\n",
       "    <tr>\n",
       "      <th>index</th>\n",
       "      <th></th>\n",
       "      <th></th>\n",
       "      <th></th>\n",
       "      <th></th>\n",
       "      <th></th>\n",
       "    </tr>\n",
       "  </thead>\n",
       "  <tbody>\n",
       "    <tr>\n",
       "      <th>All food</th>\n",
       "      <td>0.5</td>\n",
       "      <td>2.1</td>\n",
       "      <td>3.8</td>\n",
       "      <td>Jul</td>\n",
       "      <td>2002</td>\n",
       "    </tr>\n",
       "    <tr>\n",
       "      <th>Food away from home</th>\n",
       "      <td>1.3</td>\n",
       "      <td>2.8</td>\n",
       "      <td>4.3</td>\n",
       "      <td>Jul</td>\n",
       "      <td>2002</td>\n",
       "    </tr>\n",
       "    <tr>\n",
       "      <th>Food at home</th>\n",
       "      <td>-0.7</td>\n",
       "      <td>1.9</td>\n",
       "      <td>4.5</td>\n",
       "      <td>Jul</td>\n",
       "      <td>2002</td>\n",
       "    </tr>\n",
       "    <tr>\n",
       "      <th>Meats, poultry, and fish</th>\n",
       "      <td>-2.2</td>\n",
       "      <td>1.6</td>\n",
       "      <td>5.6</td>\n",
       "      <td>Jul</td>\n",
       "      <td>2002</td>\n",
       "    </tr>\n",
       "    <tr>\n",
       "      <th>Meats</th>\n",
       "      <td>-2.3</td>\n",
       "      <td>2</td>\n",
       "      <td>6.4</td>\n",
       "      <td>Jul</td>\n",
       "      <td>2002</td>\n",
       "    </tr>\n",
       "  </tbody>\n",
       "</table>\n",
       "</div>"
      ],
      "text/plain": [
       "                         Lower  Mid Upper month  year\n",
       "index                                                \n",
       "All food                   0.5  2.1   3.8   Jul  2002\n",
       "Food away from home        1.3  2.8   4.3   Jul  2002\n",
       "Food at home              -0.7  1.9   4.5   Jul  2002\n",
       "Meats, poultry, and fish  -2.2  1.6   5.6   Jul  2002\n",
       "Meats                     -2.3    2   6.4   Jul  2002"
      ]
     },
     "execution_count": 85,
     "metadata": {},
     "output_type": "execute_result"
    }
   ],
   "source": [
    "df.head()"
   ]
  },
  {
   "cell_type": "code",
   "execution_count": null,
   "metadata": {},
   "outputs": [],
   "source": []
  }
 ],
 "metadata": {
  "kernelspec": {
   "display_name": "ds",
   "language": "python",
   "name": "python3"
  },
  "language_info": {
   "codemirror_mode": {
    "name": "ipython",
    "version": 3
   },
   "file_extension": ".py",
   "mimetype": "text/x-python",
   "name": "python",
   "nbconvert_exporter": "python",
   "pygments_lexer": "ipython3",
   "version": "3.11.3"
  },
  "orig_nbformat": 4
 },
 "nbformat": 4,
 "nbformat_minor": 2
}
